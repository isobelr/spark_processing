{
 "cells": [
  {
   "cell_type": "markdown",
   "metadata": {},
   "source": [
    "# FIT5202 Assignment 2: Rain in Australia: Predict rain tomorrow in Australia\n",
    "\n",
    "# Isobel Rowe, 30042585"
   ]
  },
  {
   "cell_type": "markdown",
   "metadata": {},
   "source": [
    "### Import libraries"
   ]
  },
  {
   "cell_type": "code",
   "execution_count": 1,
   "metadata": {},
   "outputs": [
    {
     "data": {
      "text/html": [
       "<style>.container { width:90% !important; }</style>"
      ],
      "text/plain": [
       "<IPython.core.display.HTML object>"
      ]
     },
     "metadata": {},
     "output_type": "display_data"
    }
   ],
   "source": [
    "# Sets the display to 90% of the window's max width - helps for displaying dataframes\n",
    "from IPython.core.display import display, HTML\n",
    "display(HTML(\"<style>.container { width:90% !important; }</style>\"))\n",
    "from pyspark import SparkContext # Spark\n",
    "from pyspark.sql import SparkSession # Spark SQL\n",
    "import pyspark.sql.functions as F\n",
    "from pyspark.sql.functions import col, sum\n",
    "from pyspark.ml.feature import Imputer\n",
    "from pyspark.ml.feature import StringIndexer\n",
    "from pyspark.ml.feature import VectorAssembler\n",
    "from pyspark.ml.classification import DecisionTreeClassifier\n",
    "from pyspark.ml.classification import RandomForestClassifier\n",
    "from pyspark.ml.classification import LogisticRegression\n",
    "from pyspark.ml.classification import GBTClassifier\n",
    "from pyspark.mllib.evaluation import BinaryClassificationMetrics\n",
    "from pyspark.ml.evaluation import BinaryClassificationEvaluator\n",
    "from pyspark.mllib.evaluation import MulticlassMetrics\n",
    "from pyspark.ml.evaluation import MulticlassClassificationEvaluator\n",
    "import matplotlib.pyplot as plt"
   ]
  },
  {
   "cell_type": "markdown",
   "metadata": {},
   "source": [
    "## A. Creating Spark Session and Loading the Data\n",
    "\n",
    "### Step 01: Import Spark Session and initialize Spark"
   ]
  },
  {
   "cell_type": "code",
   "execution_count": 2,
   "metadata": {},
   "outputs": [],
   "source": [
    "# If there is an existing spark context, we will reuse it instead of creating a new context.\n",
    "sc = SparkContext.getOrCreate()\n",
    "\n",
    "# Create a new spark context running locally with 4 worker threads\n",
    "if (sc is None):\n",
    "    sc = SparkContext(master=\"local[4]\", appName = \"Assignment 2\")\n",
    "    \n",
    "# Create spark session\n",
    "spark = SparkSession(sparkContext = sc)\n"
   ]
  },
  {
   "cell_type": "markdown",
   "metadata": {},
   "source": [
    "### Step 02: Load the dataset and print the schema and total number of entries"
   ]
  },
  {
   "cell_type": "code",
   "execution_count": 3,
   "metadata": {},
   "outputs": [
    {
     "name": "stdout",
     "output_type": "stream",
     "text": [
      "Total number of entries in the dataset:  142193\n"
     ]
    }
   ],
   "source": [
    "# Load data\n",
    "weather_df = spark.read.csv(\"weatherAUS.csv\", sep = \",\", inferSchema = True, header = True)\n",
    "\n",
    "# Print the total number of entries in the dataset\n",
    "print(\"Total number of entries in the dataset: \", weather_df.count())\n"
   ]
  },
  {
   "cell_type": "markdown",
   "metadata": {},
   "source": [
    "## B. Data Cleaning and Processing\n",
    "\n",
    "### Step 03: Delete columns from the dataset\n",
    "\n",
    "\n",
    "To delete any unwanted columns, we can simply define a list of columns that we want to delete. Then, we can use the `*` operator to pass the contents of your list as arguments to the pyspark method `drop()`.\n"
   ]
  },
  {
   "cell_type": "code",
   "execution_count": 4,
   "metadata": {},
   "outputs": [
    {
     "name": "stdout",
     "output_type": "stream",
     "text": [
      "root\n",
      " |-- MinTemp: string (nullable = true)\n",
      " |-- MaxTemp: string (nullable = true)\n",
      " |-- Rainfall: string (nullable = true)\n",
      " |-- WindGustDir: string (nullable = true)\n",
      " |-- WindGustSpeed: string (nullable = true)\n",
      " |-- WindDir9am: string (nullable = true)\n",
      " |-- WindDir3pm: string (nullable = true)\n",
      " |-- WindSpeed9am: string (nullable = true)\n",
      " |-- WindSpeed3pm: string (nullable = true)\n",
      " |-- Humidity9am: string (nullable = true)\n",
      " |-- Humidity3pm: string (nullable = true)\n",
      " |-- Pressure9am: string (nullable = true)\n",
      " |-- Pressure3pm: string (nullable = true)\n",
      " |-- RainToday: string (nullable = true)\n",
      " |-- RainTomorrow: string (nullable = true)\n",
      "\n"
     ]
    }
   ],
   "source": [
    "# Create a list of columns to drop \n",
    "columns_to_drop = [\"Date\", \"Location\", \"Evaporation\", \"Sunshine\", \"Cloud9am\", \"Cloud3pm\", \"Temp9am\", \"Temp3pm\"]\n",
    "\n",
    "# Use .drop() to remove unwanted columns\n",
    "weather_df = weather_df.drop(*columns_to_drop)\n",
    "\n",
    "# Check \n",
    "weather_df.printSchema()\n"
   ]
  },
  {
   "cell_type": "markdown",
   "metadata": {},
   "source": [
    "### Step 04: Print the number of missing data in each column.\n",
    "\n",
    "\n",
    "Next, we want to print out the number of NA (or null) values in each column. In this file, the null values are just equal to str('NA'), which doesn't represent a null value. So, to fix this problem, I decided to first replace string null value with an actual null value via `.replace()` and `None`. \n",
    "\n",
    "Then, I displayed the null counts for each column using by summing the null values with `isNull()`.\n"
   ]
  },
  {
   "cell_type": "code",
   "execution_count": 5,
   "metadata": {},
   "outputs": [
    {
     "name": "stdout",
     "output_type": "stream",
     "text": [
      "+-------+-------+--------+-----------+-------------+----------+----------+------------+------------+-----------+-----------+-----------+-----------+---------+------------+\n",
      "|MinTemp|MaxTemp|Rainfall|WindGustDir|WindGustSpeed|WindDir9am|WindDir3pm|WindSpeed9am|WindSpeed3pm|Humidity9am|Humidity3pm|Pressure9am|Pressure3pm|RainToday|RainTomorrow|\n",
      "+-------+-------+--------+-----------+-------------+----------+----------+------------+------------+-----------+-----------+-----------+-----------+---------+------------+\n",
      "|    637|    322|    1406|       9330|         9270|     10013|      3778|        1348|        2630|       1774|       3610|      14014|      13981|     1406|           0|\n",
      "+-------+-------+--------+-----------+-------------+----------+----------+------------+------------+-----------+-----------+-----------+-----------+---------+------------+\n",
      "\n"
     ]
    }
   ],
   "source": [
    "# Replace NA string to null value\n",
    "weather_df = weather_df.replace(str('NA'), None)\n",
    "\n",
    "# Print out null values\n",
    "weather_df.select(*(sum(col(c).isNull().cast(\"int\")).alias(c) for c in weather_df.columns)).show()\n"
   ]
  },
  {
   "cell_type": "markdown",
   "metadata": {},
   "source": [
    "### Step 05: Fill the missing data with average value and maximum occurrence value.\n",
    "\n",
    "#### Numeric \n",
    "\n",
    "For the numeric columns, I decided to use the `Imputer()` transformer from pyspark. Because all of the numeric columns were stored as strings, I cast them to doubles to circumvent any problems as the input columns should be of DoubleType."
   ]
  },
  {
   "cell_type": "code",
   "execution_count": 6,
   "metadata": {},
   "outputs": [
    {
     "name": "stdout",
     "output_type": "stream",
     "text": [
      "+-------+-------+--------+-----------+-------------+----------+----------+------------+------------+-----------+-----------+-----------+-----------+---------+------------+\n",
      "|MinTemp|MaxTemp|Rainfall|WindGustDir|WindGustSpeed|WindDir9am|WindDir3pm|WindSpeed9am|WindSpeed3pm|Humidity9am|Humidity3pm|Pressure9am|Pressure3pm|RainToday|RainTomorrow|\n",
      "+-------+-------+--------+-----------+-------------+----------+----------+------------+------------+-----------+-----------+-----------+-----------+---------+------------+\n",
      "|      0|      0|       0|       9330|            0|     10013|      3778|           0|           0|          0|          0|          0|          0|     1406|           0|\n",
      "+-------+-------+--------+-----------+-------------+----------+----------+------------+------------+-----------+-----------+-----------+-----------+---------+------------+\n",
      "\n"
     ]
    }
   ],
   "source": [
    "# Cast strings to doubles\n",
    "cols = ['MaxTemp', 'MinTemp', 'Rainfall', 'WindGustSpeed', 'WindSpeed9am', 'WindSpeed3pm', 'Humidity9am', 'Humidity3pm', 'Pressure9am', 'Pressure3pm']\n",
    "for col_name in cols:\n",
    "    weather_df = weather_df.withColumn(col_name, col(col_name).cast('double'))\n",
    "\n",
    "# Create imputer\n",
    "imputer = Imputer(\n",
    "inputCols=['MaxTemp', 'MinTemp', 'Rainfall', 'WindGustSpeed', 'WindSpeed9am', 'WindSpeed3pm', 'Humidity9am', 'Humidity3pm', 'Pressure9am', 'Pressure3pm'],\n",
    "outputCols=['MaxTemp', 'MinTemp', 'Rainfall', 'WindGustSpeed', 'WindSpeed9am', 'WindSpeed3pm', 'Humidity9am', 'Humidity3pm', 'Pressure9am', 'Pressure3pm'])\n",
    "\n",
    "# Apply imputer to dataframe\n",
    "weather_df = imputer.fit(weather_df).transform(weather_df)\n",
    "\n",
    "# Check the null values are removed\n",
    "weather_df.select(*(sum(col(c).isNull().cast(\"int\")).alias(c) for c in weather_df.columns)).show()\n"
   ]
  },
  {
   "cell_type": "markdown",
   "metadata": {},
   "source": [
    "#### Categorical\n",
    "\n",
    "The pyspark imputer does not support categorical features, so, to impute the categorical columns, I dropped the null values and found the most common value (or maximum frequency value) for each categorical column. Next, I used the most common value to fill the null values with the `.when()` and `.otherwise()` functions.\n"
   ]
  },
  {
   "cell_type": "code",
   "execution_count": 7,
   "metadata": {},
   "outputs": [
    {
     "name": "stdout",
     "output_type": "stream",
     "text": [
      "+-------+-------+--------+-----------+-------------+----------+----------+------------+------------+-----------+-----------+-----------+-----------+---------+------------+\n",
      "|MinTemp|MaxTemp|Rainfall|WindGustDir|WindGustSpeed|WindDir9am|WindDir3pm|WindSpeed9am|WindSpeed3pm|Humidity9am|Humidity3pm|Pressure9am|Pressure3pm|RainToday|RainTomorrow|\n",
      "+-------+-------+--------+-----------+-------------+----------+----------+------------+------------+-----------+-----------+-----------+-----------+---------+------------+\n",
      "|      0|      0|       0|          0|            0|         0|         0|           0|           0|          0|          0|          0|          0|        0|           0|\n",
      "+-------+-------+--------+-----------+-------------+----------+----------+------------+------------+-----------+-----------+-----------+-----------+---------+------------+\n",
      "\n"
     ]
    }
   ],
   "source": [
    "# Create loop through dataframe\n",
    "for col_name in ['WindGustDir','WindDir9am', 'WindDir3pm', 'RainToday']:\n",
    "    # Find the most common value\n",
    "    common = weather_df.dropna().groupBy(col_name).agg(F.count(\"*\")).orderBy('count(1)', ascending=False).first()[col_name]\n",
    "    # Fill in the blanks with the common value\n",
    "    weather_df = weather_df.withColumn(col_name, F.when(F.isnull(col_name), common).otherwise(weather_df[col_name]))\n",
    "    \n",
    "# Check the null values are removed\n",
    "weather_df.select(*(sum(col(c).isNull().cast(\"int\")).alias(c) for c in weather_df.columns)).show()\n"
   ]
  },
  {
   "cell_type": "markdown",
   "metadata": {},
   "source": [
    "### Step 06: Data transformation\n",
    "\n",
    "The tranformation of the numerical value columns to doubles was already completed in the previous step, so all that needs to be done is the string indexing. I did this by creating a StringIndexer for each categorical column, and then simply applying it to the dataframe via `.fit()` and `.transform()`. I also dropped the original columns, and checked the datatypes.\n"
   ]
  },
  {
   "cell_type": "code",
   "execution_count": 8,
   "metadata": {},
   "outputs": [
    {
     "data": {
      "text/plain": [
       "[('MinTemp', 'double'),\n",
       " ('MaxTemp', 'double'),\n",
       " ('Rainfall', 'double'),\n",
       " ('WindGustSpeed', 'double'),\n",
       " ('WindSpeed9am', 'double'),\n",
       " ('WindSpeed3pm', 'double'),\n",
       " ('Humidity9am', 'double'),\n",
       " ('Humidity3pm', 'double'),\n",
       " ('Pressure9am', 'double'),\n",
       " ('Pressure3pm', 'double'),\n",
       " ('WindGustDirIndex', 'double'),\n",
       " ('WindDir9amIndex', 'double'),\n",
       " ('WindDir3pmIndex', 'double'),\n",
       " ('RainTodayIndex', 'double'),\n",
       " ('RainTomorrowIndex', 'double')]"
      ]
     },
     "execution_count": 8,
     "metadata": {},
     "output_type": "execute_result"
    }
   ],
   "source": [
    "# Create string indexers for each categorical column\n",
    "WindGustDirIndexer = StringIndexer(inputCol=\"WindGustDir\", outputCol=\"WindGustDirIndex\")\n",
    "WindDir9amIndexer = StringIndexer(inputCol=\"WindDir9am\", outputCol=\"WindDir9amIndex\")\n",
    "WindDir3pmIndexer = StringIndexer(inputCol=\"WindDir3pm\", outputCol=\"WindDir3pmIndex\")\n",
    "RainTodayIndexer = StringIndexer(inputCol=\"RainToday\", outputCol=\"RainTodayIndex\")\n",
    "RainTomorrowIndexer = StringIndexer(inputCol=\"RainTomorrow\", outputCol=\"RainTomorrowIndex\")\n",
    "\n",
    "# Create a list of the indexers\n",
    "indexers = [WindGustDirIndexer, WindDir9amIndexer, WindDir3pmIndexer, RainTodayIndexer, RainTomorrowIndexer]\n",
    "\n",
    "# Apply to dataframe using loop\n",
    "for indexer in indexers:\n",
    "    weather_df = indexer.fit(weather_df).transform(weather_df)\n",
    "    \n",
    "# Drop original columns    \n",
    "columns_to_drop = ['WindGustDir', 'WindDir9am', 'WindDir3pm', 'RainToday', 'RainTomorrow']\n",
    "weather_df = weather_df.drop(*columns_to_drop)\n",
    "\n",
    "# Check datatypes\n",
    "weather_df.dtypes\n"
   ]
  },
  {
   "cell_type": "markdown",
   "metadata": {},
   "source": [
    "### Step 07: Create the feature vector and divide the dataset\n",
    "\n",
    "Next, `VectorAssembler()` is used to create the feature vector. I made sure to exclude the 'RainTomorrowIndex' column as this is our target variable.\n",
    "\n",
    "I also divided the data into a training set and a testing set using `.randomSplit()` with 70% for training and 30% for testing, ready for the classification algorithms.\n"
   ]
  },
  {
   "cell_type": "code",
   "execution_count": 9,
   "metadata": {},
   "outputs": [
    {
     "name": "stdout",
     "output_type": "stream",
     "text": [
      "Training Dataset Count: 99626\n",
      "Test Dataset Count: 42567\n"
     ]
    }
   ],
   "source": [
    "# Create vector assembler\n",
    "assembler = VectorAssembler(\n",
    "    inputCols=['MaxTemp', 'MinTemp', 'Rainfall', 'WindGustSpeed', 'WindSpeed9am', 'WindSpeed3pm', 'Humidity9am', 'Humidity3pm', 'Pressure9am', 'Pressure3pm', 'WindGustDirIndex','WindDir9amIndex', 'WindDir3pmIndex', 'RainTodayIndex'],\n",
    "    outputCol=\"features\")\n",
    "\n",
    "# Apply the vector assembler\n",
    "output = assembler.transform(weather_df)\n",
    "\n",
    "# Isolate the relevant variables\n",
    "output = output.select(\"features\",\"RainTomorrowIndex\")\n",
    "\n",
    "# Divide data into train sets and test sets\n",
    "trainingData, testData = output.randomSplit([0.7, 0.3], seed = 2018)\n",
    "\n",
    "# Display the sizes of the sets\n",
    "print(\"Training Dataset Count: \" + str(trainingData.count()))\n",
    "print(\"Test Dataset Count: \" + str(testData.count()))\n"
   ]
  },
  {
   "cell_type": "markdown",
   "metadata": {},
   "source": [
    "## C. Apply Machine Learning Algorithms\n",
    "\n",
    "### Step 08: Apply machine learning classification algorithms on the dataset and compare their accuracy. Plot the accuracy as bar graph.\n",
    "\n",
    "\n",
    "For each of the classification algorithms I followed the same approach:\n",
    "\n",
    "First, I created the classifier and passed in the label column as \"RainTomorrowIndex\" and the features column as \"features\". Then, I trained the model with the training dataset, and tested with the test dataset. \n",
    "\n",
    "Finally, I used the `MulticlassClassificationEvaluator()` to check the accuracy of each model. Accuracy here is calculated with the number of correct predictions divided by the number of all predictions. Another alternative to this accuracy calculation is Area Under ROC, which is used for binary classfication via `BinaryClassificationEvaluator()`. It is equal to the probability that the classifier will rank a randomly chosen positive example higher than a randomly chosen negative example. I used both of these accuracy measures.\n",
    "\n",
    "\n",
    "#### Decision Tree"
   ]
  },
  {
   "cell_type": "code",
   "execution_count": 10,
   "metadata": {},
   "outputs": [
    {
     "name": "stdout",
     "output_type": "stream",
     "text": [
      "Accuracy:  0.8339088965630653\n",
      "Test Area Under ROC:  0.2935299963877992\n"
     ]
    }
   ],
   "source": [
    "# Create the classfier\n",
    "dt = DecisionTreeClassifier(labelCol=\"RainTomorrowIndex\", featuresCol=\"features\")\n",
    "# Train\n",
    "dtModel = dt.fit(trainingData)\n",
    "# Test\n",
    "dt_predictions = dtModel.transform(testData)\n",
    "\n",
    "# Evaluate the accuracy of the classification technique\n",
    "accuracy_evaluator = MulticlassClassificationEvaluator(labelCol=\"RainTomorrowIndex\", predictionCol=\"prediction\", metricName=\"accuracy\")\n",
    "dt_accuracy = accuracy_evaluator.evaluate(dt_predictions)\n",
    "\n",
    "# Evaluate the area under roc\n",
    "auroc_evaluator = BinaryClassificationEvaluator(labelCol=\"RainTomorrowIndex\", metricName=\"areaUnderROC\")\n",
    "dt_auroc = auroc_evaluator.evaluate(dt_predictions)\n",
    "\n",
    "# Display results\n",
    "print(\"Accuracy: \", dt_accuracy)\n",
    "print(\"Test Area Under ROC: \" , dt_auroc)\n"
   ]
  },
  {
   "cell_type": "markdown",
   "metadata": {},
   "source": [
    "#### Random Forest"
   ]
  },
  {
   "cell_type": "code",
   "execution_count": 11,
   "metadata": {},
   "outputs": [
    {
     "name": "stdout",
     "output_type": "stream",
     "text": [
      "Accuracy:  0.832405384452745\n",
      "Test Area Under ROC:  0.820717557914375\n"
     ]
    }
   ],
   "source": [
    "# Create and fit classifier\n",
    "rf = RandomForestClassifier(labelCol=\"RainTomorrowIndex\", featuresCol=\"features\", numTrees=10)\n",
    "rfModel = rf.fit(trainingData)\n",
    "rf_predictions = rfModel.transform(testData)\n",
    "\n",
    "# Evaluate\n",
    "rf_accuracy = accuracy_evaluator.evaluate(rf_predictions)\n",
    "rf_auroc = auroc_evaluator.evaluate(rf_predictions)\n",
    "\n",
    "# Display results\n",
    "print(\"Accuracy: \", rf_accuracy)\n",
    "print(\"Test Area Under ROC: \" , rf_auroc)\n"
   ]
  },
  {
   "cell_type": "markdown",
   "metadata": {},
   "source": [
    "#### Logistic Regression"
   ]
  },
  {
   "cell_type": "code",
   "execution_count": 12,
   "metadata": {},
   "outputs": [
    {
     "name": "stdout",
     "output_type": "stream",
     "text": [
      "Accuracy:  0.814997533300444\n",
      "Test Area Under ROC:  0.8100937256235617\n"
     ]
    }
   ],
   "source": [
    "# Create and fit classifier\n",
    "lr = LogisticRegression(featuresCol = 'features', labelCol = 'RainTomorrowIndex', maxIter = 10)\n",
    "lrModel = lr.fit(trainingData)\n",
    "lr_predictions = lrModel.transform(testData)   \n",
    "\n",
    "# Evaluate\n",
    "lr_accuracy = accuracy_evaluator.evaluate(lr_predictions)\n",
    "lr_auroc = auroc_evaluator.evaluate(lr_predictions)\n",
    "\n",
    "# Display results\n",
    "print(\"Accuracy: \", lr_accuracy)\n",
    "print(\"Test Area Under ROC: \" , lr_auroc)\n"
   ]
  },
  {
   "cell_type": "markdown",
   "metadata": {},
   "source": [
    "#### GBT Classifier"
   ]
  },
  {
   "cell_type": "code",
   "execution_count": 13,
   "metadata": {},
   "outputs": [
    {
     "name": "stdout",
     "output_type": "stream",
     "text": [
      "Accuracy:  0.839922945004346\n",
      "Test Area Under ROC:  0.8542578257492897\n"
     ]
    }
   ],
   "source": [
    "# Create and fit classifier\n",
    "gbt = GBTClassifier(featuresCol = 'features', labelCol = 'RainTomorrowIndex', maxIter = 10)\n",
    "gbtModel = gbt.fit(trainingData)\n",
    "gbt_predictions = gbtModel.transform(testData)   \n",
    "\n",
    "# Evaluate\n",
    "gbt_accuracy = accuracy_evaluator.evaluate(gbt_predictions)\n",
    "gbt_auroc = auroc_evaluator.evaluate(gbt_predictions)\n",
    "\n",
    "# Display results\n",
    "print(\"Accuracy: \", gbt_accuracy)\n",
    "print(\"Test Area Under ROC: \" , gbt_auroc)\n"
   ]
  },
  {
   "cell_type": "markdown",
   "metadata": {},
   "source": [
    "#### Plot \n",
    "\n",
    "Finally, I made a bar chart to compare the accuracy of each classification type. As can be seen below, the decision tree classifier performed the best, with the random forest following closely behind. The logistic regression performed the worst of all, with an accuracy of 0.80. "
   ]
  },
  {
   "cell_type": "code",
   "execution_count": 14,
   "metadata": {},
   "outputs": [
    {
     "data": {
      "text/plain": [
       "(array([0. , 0.1, 0.2, 0.3, 0.4, 0.5, 0.6, 0.7, 0.8, 0.9]),\n",
       " <a list of 10 Text yticklabel objects>)"
      ]
     },
     "execution_count": 14,
     "metadata": {},
     "output_type": "execute_result"
    },
    {
     "data": {
      "image/png": "[encoded data removed]",
      "text/plain": [
       "<Figure size 1080x504 with 1 Axes>"
      ]
     },
     "metadata": {
      "needs_background": "light"
     },
     "output_type": "display_data"
    }
   ],
   "source": [
    "# Define inputs for plot\n",
    "name = [\"Decision Tree\", \"Random Forest\", \"Logistic Regression\", \"GBT Classifier\"]\n",
    "accuracy = [dt_accuracy, rf_accuracy, lr_accuracy, gbt_accuracy]\n",
    "\n",
    "# Create plot\n",
    "plt.figure(figsize=(15,7))\n",
    "plt.bar(name, accuracy)\n",
    "\n",
    "# Add labels\n",
    "plt.title(\"Accuracy of Classification Technique\", fontsize = 18)\n",
    "plt.xlabel('Classification Technique', fontsize = 12)\n",
    "plt.ylabel('Accuracy', fontsize = 12)\n",
    "plt.xticks(size = 10)\n",
    "plt.yticks(size = 10)\n"
   ]
  },
  {
   "cell_type": "markdown",
   "metadata": {},
   "source": [
    "### Step 09: Calculate the confusion matrix and find the precision, recall, and F1 score of each classification algorithm. Explain how the accuracy of the predication can be improved?\n",
    "\n",
    "\n",
    "Because we are using MultiClassMetrics for evaluating the output of a Binary classifier, I passed in `label=1` as an argument in precision and recall methods for binary classification.\n",
    "\n",
    "However, I noticed that this work-around does not work for the F1 score. Luckily, the calculation is simple so I did each manually to ensure the correct result was achieved. The formulas used are as follows:\n",
    "\n",
    "$Precision = (TP) / (TP + FP)$\n",
    "\n",
    "$Recall = TP / (TP + FN)$\n",
    "\n",
    "$F Score = 2* ((PI * R) / (P + R))$\n",
    "\n",
    "\n",
    "\n",
    "\n",
    "#### Decision Tree\n"
   ]
  },
  {
   "cell_type": "code",
   "execution_count": 15,
   "metadata": {},
   "outputs": [
    {
     "name": "stdout",
     "output_type": "stream",
     "text": [
      "Confusion Matrix: \n",
      " [[32026.   985.]\n",
      " [ 6085.  3471.]]\n",
      "\n",
      "--------------------------------- \n",
      "MulticlassMetrics Calculations: \n",
      "\n",
      "Precision:  0.7789497307001796\n",
      "Recall:  0.3632272917538719\n",
      "F1 Score:  0.8339088965630653\n",
      "\n",
      "--------------------------------- \n",
      "Manual Calculations: \n",
      "\n",
      "Precision:  0.7789497307001796\n",
      "Recall:  0.3632272917538719\n",
      "F1 Score:  0.4954324864401941\n"
     ]
    }
   ],
   "source": [
    "# Metrics\n",
    "results = dt_predictions.select(['prediction', 'RainTomorrowIndex'])\n",
    "predictionRDD = results.rdd\n",
    "metrics = MulticlassMetrics(predictionRDD)\n",
    "\n",
    "# Confusion Matrix\n",
    "cm = metrics.confusionMatrix().toArray()\n",
    "print(\"Confusion Matrix: \\n\", cm)\n",
    "\n",
    "# Metrics with multiclassmetrics\n",
    "print(\"\\n--------------------------------- \\nMulticlassMetrics Calculations: \\n\")\n",
    "print(\"Precision: \", metrics.precision(label=1))\n",
    "print(\"Recall: \", metrics.recall(label=1))\n",
    "print(\"F1 Score: \", metrics.fMeasure())\n",
    "\n",
    "\n",
    "# Manual calulations\n",
    "# Accessing values in confusion matrix array \n",
    "tp = cm[1][1]\n",
    "tn = cm[0][0]\n",
    "fp = cm[0][1]\n",
    "fn = cm[1][0]\n",
    "\n",
    "# Precision\n",
    "p = float(tp) / (tp + fp)\n",
    "print(\"\\n--------------------------------- \\nManual Calculations: \\n\")\n",
    "print(\"Precision: \", p)\n",
    "\n",
    "# Recall\n",
    "r = float(tp)/(tp + fn)\n",
    "print(\"Recall: \", r)\n",
    "\n",
    "# F1 Score\n",
    "f1 = 2*((p*r) / (p + r))\n",
    "print(\"F1 Score: \", f1)"
   ]
  },
  {
   "cell_type": "markdown",
   "metadata": {},
   "source": [
    "#### Random Forest"
   ]
  },
  {
   "cell_type": "code",
   "execution_count": 16,
   "metadata": {},
   "outputs": [
    {
     "name": "stdout",
     "output_type": "stream",
     "text": [
      "Confusion Matrix: \n",
      " [[31919.  1092.]\n",
      " [ 6042.  3514.]]\n",
      "\n",
      "--------------------------------- \n",
      "MulticlassMetrics Calculations: \n",
      "\n",
      "Precision:  0.7629179331306991\n",
      "Recall:  0.3677270824612809\n",
      "F1 Score:  0.832405384452745\n",
      "\n",
      "--------------------------------- \n",
      "Manual Calculations: \n",
      "\n",
      "Precision:  0.7629179331306991\n",
      "Recall:  0.3677270824612809\n",
      "F1 Score:  0.49625759073577175\n"
     ]
    }
   ],
   "source": [
    "# Metrics\n",
    "results = rf_predictions.select(['prediction', 'RainTomorrowIndex'])\n",
    "predictionRDD = results.rdd\n",
    "metrics = MulticlassMetrics(predictionRDD)\n",
    "\n",
    "# Confusion Matrix\n",
    "cm = metrics.confusionMatrix().toArray()\n",
    "print(\"Confusion Matrix: \\n\", cm)\n",
    "\n",
    "# Metrics with multiclassmetrics\n",
    "print(\"\\n--------------------------------- \\nMulticlassMetrics Calculations: \\n\")\n",
    "print(\"Precision: \", metrics.precision(label=1))\n",
    "print(\"Recall: \", metrics.recall(label=1))\n",
    "print(\"F1 Score: \", metrics.fMeasure())\n",
    "\n",
    "\n",
    "# Manual calulations\n",
    "# Accessing values in confusion matrix array \n",
    "tp = cm[1][1]\n",
    "tn = cm[0][0]\n",
    "fp = cm[0][1]\n",
    "fn = cm[1][0]\n",
    "\n",
    "# Precision\n",
    "p = float(tp) / (tp + fp)\n",
    "print(\"\\n--------------------------------- \\nManual Calculations: \\n\")\n",
    "print(\"Precision: \", p)\n",
    "\n",
    "# Recall\n",
    "r = float(tp)/(tp + fn)\n",
    "print(\"Recall: \", r)\n",
    "\n",
    "# F1 Score\n",
    "f1 = 2*((p*r) / (p + r))\n",
    "print(\"F1 Score: \", f1)"
   ]
  },
  {
   "cell_type": "markdown",
   "metadata": {},
   "source": [
    "#### Logistic Regression"
   ]
  },
  {
   "cell_type": "code",
   "execution_count": 17,
   "metadata": {
    "scrolled": true
   },
   "outputs": [
    {
     "name": "stdout",
     "output_type": "stream",
     "text": [
      "Confusion Matrix: \n",
      " [[30690.  2321.]\n",
      " [ 5554.  4002.]]\n",
      "\n",
      "--------------------------------- \n",
      "MulticlassMetrics Calculations: \n",
      "\n",
      "Precision:  0.6329274078760082\n",
      "Recall:  0.4187944746755965\n",
      "F1 Score:  0.814997533300444\n",
      "\n",
      "--------------------------------- \n",
      "Manual Calculations: \n",
      "\n",
      "Precision:  0.6329274078760082\n",
      "Recall:  0.4187944746755965\n",
      "F1 Score:  0.5040619686378235\n"
     ]
    }
   ],
   "source": [
    "# Metrics\n",
    "results = lr_predictions.select(['prediction', 'RainTomorrowIndex'])\n",
    "predictionRDD = results.rdd\n",
    "metrics = MulticlassMetrics(predictionRDD)\n",
    "\n",
    "# Confusion Matrix\n",
    "cm = metrics.confusionMatrix().toArray()\n",
    "print(\"Confusion Matrix: \\n\", cm)\n",
    "\n",
    "# Metrics with multiclassmetrics\n",
    "print(\"\\n--------------------------------- \\nMulticlassMetrics Calculations: \\n\")\n",
    "print(\"Precision: \", metrics.precision(label=1))\n",
    "print(\"Recall: \", metrics.recall(label=1))\n",
    "print(\"F1 Score: \", metrics.fMeasure())\n",
    "\n",
    "\n",
    "# Manual calulations\n",
    "# Accessing values in confusion matrix array \n",
    "tp = cm[1][1]\n",
    "tn = cm[0][0]\n",
    "fp = cm[0][1]\n",
    "fn = cm[1][0]\n",
    "\n",
    "# Precision\n",
    "p = float(tp) / (tp + fp)\n",
    "print(\"\\n--------------------------------- \\nManual Calculations: \\n\")\n",
    "print(\"Precision: \", p)\n",
    "\n",
    "# Recall\n",
    "r = float(tp)/(tp + fn)\n",
    "print(\"Recall: \", r)\n",
    "\n",
    "# F1 Score\n",
    "f1 = 2*((p*r) / (p + r))\n",
    "print(\"F1 Score: \", f1)"
   ]
  },
  {
   "cell_type": "markdown",
   "metadata": {},
   "source": [
    "#### GBT Classifier"
   ]
  },
  {
   "cell_type": "code",
   "execution_count": 18,
   "metadata": {},
   "outputs": [
    {
     "name": "stdout",
     "output_type": "stream",
     "text": [
      "Confusion Matrix: \n",
      " [[31453.  1558.]\n",
      " [ 5256.  4300.]]\n",
      "\n",
      "--------------------------------- \n",
      "MulticlassMetrics Calculations: \n",
      "\n",
      "Precision:  0.7340389211334927\n",
      "Recall:  0.44997907074089577\n",
      "F1 Score:  0.839922945004346\n",
      "\n",
      "--------------------------------- \n",
      "Manual Calculations: \n",
      "\n",
      "Precision:  0.7340389211334927\n",
      "Recall:  0.44997907074089577\n",
      "F1 Score:  0.5579343454002854\n"
     ]
    }
   ],
   "source": [
    "# Metrics\n",
    "results = gbt_predictions.select(['prediction', 'RainTomorrowIndex'])\n",
    "predictionRDD = results.rdd\n",
    "metrics = MulticlassMetrics(predictionRDD)\n",
    "\n",
    "# Confusion Matrix\n",
    "cm = metrics.confusionMatrix().toArray()\n",
    "print(\"Confusion Matrix: \\n\", cm)\n",
    "\n",
    "# Metrics with multiclassmetrics\n",
    "print(\"\\n--------------------------------- \\nMulticlassMetrics Calculations: \\n\")\n",
    "print(\"Precision: \", metrics.precision(label=1))\n",
    "print(\"Recall: \", metrics.recall(label=1))\n",
    "print(\"F1 Score: \", metrics.fMeasure())\n",
    "\n",
    "\n",
    "# Manual calculations\n",
    "# Accessing values in confusion matrix array \n",
    "tp = cm[1][1]\n",
    "tn = cm[0][0]\n",
    "fp = cm[0][1]\n",
    "fn = cm[1][0]\n",
    "\n",
    "# Precision\n",
    "p = float(tp) / (tp + fp)\n",
    "print(\"\\n--------------------------------- \\nManual Calculations: \\n\")\n",
    "print(\"Precision: \", p)\n",
    "\n",
    "# Recall\n",
    "r = float(tp)/(tp + fn)\n",
    "print(\"Recall: \", r)\n",
    "\n",
    "# F1 Score\n",
    "f1 = 2*((p*r) / (p + r))\n",
    "print(\"F1 Score: \", f1)"
   ]
  },
  {
   "cell_type": "markdown",
   "metadata": {},
   "source": [
    "#### How to improve accuracy of the predictions:\n",
    "\n",
    "\n",
    "There are many options for improving the accuracy of these classifiers. \n",
    "\n",
    "***Feature selection*** is the process of finding the subset of attributes which best explain the relationship between independent variables and the target variable. May be based on prior domain knowledge or statistical evaluation such as p-value or correlation.\n",
    "\n",
    "\n",
    "***Algorithm tuning*** is the process of finding the optimum value for each parameter to improve accuaracy of the model. For instance, in random forest classification, there are various parameters such as max_features, number_trees etc. Intuitive optimisation of these parameter values can result in better and more accurate models.\n",
    "\n",
    "\n",
    "***Hyperparameter tuning*** is a common technique to optimise machine learning models based on hyperparameters, or configurations that are not learned during model training.  Tuning these configurations can help to avoid overfitting and dramatically improve model performance. In pySpark, tools such as CrossValidator and TrainValidationSplit are available to help with this.\n"
   ]
  }
 ],
 "metadata": {
  "kernelspec": {
   "display_name": "Python 3",
   "language": "python",
   "name": "python3"
  },
  "language_info": {
   "codemirror_mode": {
    "name": "ipython",
    "version": 3
   },
   "file_extension": ".py",
   "mimetype": "text/x-python",
   "name": "python",
   "nbconvert_exporter": "python",
   "pygments_lexer": "ipython3",
   "version": "3.7.1"
  }
 },
 "nbformat": 4,
 "nbformat_minor": 2
}
